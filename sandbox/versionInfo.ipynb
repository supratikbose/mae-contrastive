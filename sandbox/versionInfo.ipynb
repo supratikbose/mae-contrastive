{
 "cells": [
  {
   "cell_type": "code",
   "execution_count": 1,
   "metadata": {},
   "outputs": [
    {
     "name": "stdout",
     "output_type": "stream",
     "text": [
      "3.9.20\n"
     ]
    }
   ],
   "source": [
    "from platform import python_version\n",
    "print(python_version())\n",
    "\n",
    "#baseImcutVxm\n",
    "# 3.7.10\n",
    "\n",
    "#viuovervxm\n",
    "# 3.9.17\n",
    "\n",
    "#timm_env\n",
    "#3.9.20\n"
   ]
  },
  {
   "cell_type": "code",
   "execution_count": 2,
   "metadata": {},
   "outputs": [
    {
     "name": "stdout",
     "output_type": "stream",
     "text": [
      "2.4.1+cu121\n",
      "Cuda availability: True\n",
      "Cuda version of Pytorch: 12.1\n",
      "Cuda Device count: 2\n",
      "Current device 0\n",
      "Current device object <torch.cuda.device object at 0x7f6e0b475be0>\n",
      "Current device name NVIDIA A100-SXM4-40GB\n",
      "Machine type: a100MachineFlag True TeslaT4MachineFlag False\n"
     ]
    }
   ],
   "source": [
    "import torch\n",
    "print(torch.__version__)\n",
    "cuda_availability = torch.cuda.is_available()\n",
    "assert True==cuda_availability, \"Something wrong here.\"\n",
    "print(f'Cuda availability: {cuda_availability}')\n",
    "print(f'Cuda version of Pytorch: {torch.version.cuda}')\n",
    "deviceCount = torch.cuda.device_count()\n",
    "print(f'Cuda Device count: {deviceCount}')\n",
    "print(f'Current device {torch.cuda.current_device()}')\n",
    "print(f'Current device object {torch.cuda.device(0)}')\n",
    "deviceName =  torch.cuda.get_device_name(0)#Tesla T4 or NVIDIA A100-SXM4-40GB\n",
    "print(f'Current device name {deviceName}')\n",
    "a100MachineFlag = \"A100\" in deviceName\n",
    "TeslaT4MachineFlag = \"Tesla\" in deviceName\n",
    "print(f'Machine type: a100MachineFlag {a100MachineFlag} TeslaT4MachineFlag {TeslaT4MachineFlag}')\n",
    "\n",
    "#baseImcutVxm\n",
    "# 1.13.1\n",
    "# Cuda availability: True\n",
    "# Cuda version of Pytorch: 11.8\n",
    "# Cuda Device count: 4\n",
    "# Current device 0\n",
    "# Current device object <torch.cuda.device object at 0x7faa29f84850>\n",
    "# Current device name Tesla T4\n",
    "# Machine type: a100MachineFlag False TeslaT4MachineFlag True\n",
    "\n",
    "#viuovervxm\n",
    "# 2.0.1\n",
    "# Cuda availability: True\n",
    "# Cuda version of Pytorch: 11.8\n",
    "# Cuda Device count: 2\n",
    "# Current device 0\n",
    "# Current device object <torch.cuda.device object at 0x7f0189699640>\n",
    "# Current device name Tesla T4\n",
    "# Machine type: a100MachineFlag False TeslaT4MachineFlag True\n",
    "\n",
    "#timm_env\n",
    "# 2.4.1+cu121\n",
    "# Cuda availability: True\n",
    "# Cuda version of Pytorch: 12.1\n",
    "# Cuda Device count: 2\n",
    "# Current device 0\n",
    "# Current device object <torch.cuda.device object at 0x7f62cec75dc0>\n",
    "# Current device name NVIDIA A100-SXM4-40GB\n",
    "# Machine type: a100MachineFlag True TeslaT4MachineFlag False\n"
   ]
  },
  {
   "cell_type": "code",
   "execution_count": 3,
   "metadata": {},
   "outputs": [
    {
     "name": "stdout",
     "output_type": "stream",
     "text": [
      "1.3.2\n"
     ]
    }
   ],
   "source": [
    "import monai; \n",
    "print(monai.__version__)\n",
    "\n",
    "#baseImcutVxm\n",
    "# 1.1.0\n",
    "\n",
    "#viuovervxm\n",
    "# 1.2.0\n",
    "\n",
    "#timm_env\n",
    "# 1.3.2\n"
   ]
  },
  {
   "cell_type": "code",
   "execution_count": 4,
   "metadata": {},
   "outputs": [
    {
     "name": "stdout",
     "output_type": "stream",
     "text": [
      "2.4.0\n"
     ]
    }
   ],
   "source": [
    "import os\n",
    "import pathlib\n",
    "import torch\n",
    "import numpy as np\n",
    "\n",
    "import pytorch_lightning as pl\n",
    "print(pl.__version__)\n",
    "from pytorch_lightning.callbacks import LearningRateMonitor #Bose: Automatically monitor and logs learning rate for learning rate schedulers during training\n",
    "# from pytorch_lightning.profiler import PyTorchProfiler #Bose: profiler - can be integrated in VS code too #Not available in newer pytorch lightning\n",
    "from pytorch_lightning.callbacks import ModelCheckpoint #Bose: checkpoint callback : similar to KERAS\n",
    "from pytorch_lightning.callbacks import ModelSummary\n",
    "# from pytorch_lightning.plugins import DDPPlugin #Bose: Plugin for multi-process single-device training on one or multiple nodes. \n",
    "#  The main process in each node spawns N-1 child processes via subprocess.Popen(), where N is the number of devices (e.g. GPU) per node.\n",
    "# In newer versions cannot import name 'DDPPlugin' from 'pytorch_lightning.plugins' (/opt/conda/envs/viuovervxm/lib/python3.9/site-packages/pytorch_lightning/plugins/__init__.py)\n",
    "from pytorch_lightning.loggers import TensorBoardLogger #Bose:\n",
    "\n",
    "#baseImcutVxm\n",
    "# 2023-09-20 23:14:51,217 - Created a temporary directory at /tmp/tmpi6kysmyr\n",
    "# 2023-09-20 23:14:51,219 - Writing /tmp/tmpi6kysmyr/_remote_module_non_scriptable.py\n",
    "# 1.9.5\n",
    "\n",
    "#viuovervxm\n",
    "# No module named 'pytorch_lightning.profiler'\n",
    "# 2.0.7\n",
    "\n",
    "#timm_env\n",
    "# 2.4.0\n"
   ]
  },
  {
   "cell_type": "code",
   "execution_count": 5,
   "metadata": {},
   "outputs": [],
   "source": [
    "#Import from  https://github.com/shlokk/mae-contrastive/blob/main/main_pretrain.py\n",
    "import argparse\n",
    "import datetime\n",
    "import json\n",
    "import numpy as np\n",
    "import os\n",
    "import time\n",
    "from pathlib import Path\n",
    "\n",
    "import torch\n",
    "import torch.backends.cudnn as cudnn\n",
    "from torch.utils.tensorboard import SummaryWriter\n",
    "import torchvision.transforms as transforms\n",
    "import torchvision.datasets as datasets\n",
    "\n",
    "import timm\n",
    "#assert timm.__version__ == \"0.3.2\"  # version check\n",
    "import timm.optim.optim_factory as optim_factory"
   ]
  }
 ],
 "metadata": {
  "kernelspec": {
   "display_name": "Python 3.7.10 ('baseImcutVxm')",
   "language": "python",
   "name": "python3"
  },
  "language_info": {
   "codemirror_mode": {
    "name": "ipython",
    "version": 3
   },
   "file_extension": ".py",
   "mimetype": "text/x-python",
   "name": "python",
   "nbconvert_exporter": "python",
   "pygments_lexer": "ipython3",
   "version": "3.9.20"
  },
  "orig_nbformat": 4,
  "vscode": {
   "interpreter": {
    "hash": "5d86e31d8fb04838bcb0116f12ab7b7b132f16687fa8d02eb73ebb9b8473ae95"
   }
  }
 },
 "nbformat": 4,
 "nbformat_minor": 2
}
